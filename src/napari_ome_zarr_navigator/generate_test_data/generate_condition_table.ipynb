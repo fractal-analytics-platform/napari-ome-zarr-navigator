{
 "cells": [
  {
   "cell_type": "code",
   "execution_count": 38,
   "metadata": {},
   "outputs": [],
   "source": [
    "import anndata as ad\n",
    "import pandas as pd\n",
    "from fractal_tasks_core.tables import write_table\n",
    "import zarr"
   ]
  },
  {
   "cell_type": "code",
   "execution_count": 39,
   "metadata": {},
   "outputs": [],
   "source": [
    "# zarr_base = \"/Users/joel/shares/dataShareJoel/jluethi/Fractal/20231222_navigator_test_data/20200812-CardiomyocyteDifferentiation14-Cycle1_mip.zarr\"\n",
    "zarr_base = \"/Users/joel/Library/CloudStorage/Dropbox/Joel/BioVisionCenter/Code/napari-ome-zarr-navigator/test_data/20231222_navigator_test_data/20200812-CardiomyocyteDifferentiation14-Cycle1_mip.zarr\"\n",
    "# zarr_base = \"/Users/joel/Library/CloudStorage/Dropbox/Joel/BioVisionCenter/Code/napari-ome-zarr-navigator/test_data/20231222_navigator_test_data/20200812-CardiomyocyteDifferentiation14-Cycle1.zarr\"\n",
    "zarr_b03 = f\"{zarr_base}/B/03/0\"\n",
    "zarr_b05 = f\"{zarr_base}/B/05/0\""
   ]
  },
  {
   "cell_type": "markdown",
   "metadata": {},
   "source": []
  },
  {
   "cell_type": "code",
   "execution_count": 40,
   "metadata": {},
   "outputs": [],
   "source": [
    "df_b03 = pd.DataFrame(\n",
    "    {\n",
    "        'row': [\"B\", \"B\"], \n",
    "        'col': [\"03\", \"03\"], \n",
    "        'drug': [\"drug1\", \"drug2\"], \n",
    "        'concentration': [\"0.1\", \"10.0\"], \n",
    "        'extra1': [\"True\", \"False\"], \n",
    "        'extra2': [\"example\", \"example\"]\n",
    "    }\n",
    ")\n",
    "\n",
    "df_b05 = pd.DataFrame(\n",
    "    {\n",
    "        'row': [\"B\"], \n",
    "        'col': [\"05\"], \n",
    "        'drug': [\"drug1\"], \n",
    "        'concentration': [\"5.0\"], \n",
    "        'extra1': [\"True\"], \n",
    "        'extra2': [\"example\"]\n",
    "    }\n",
    ")"
   ]
  },
  {
   "cell_type": "code",
   "execution_count": 41,
   "metadata": {},
   "outputs": [
    {
     "name": "stderr",
     "output_type": "stream",
     "text": [
      "/Users/joel/mambaforge/envs/napari-ome-zarr-navigator/lib/python3.10/site-packages/anndata/_core/anndata.py:183: ImplicitModificationWarning: Transforming to str index.\n",
      "  warnings.warn(\"Transforming to str index.\", ImplicitModificationWarning)\n",
      "/Users/joel/mambaforge/envs/napari-ome-zarr-navigator/lib/python3.10/site-packages/anndata/_core/anndata.py:183: ImplicitModificationWarning: Transforming to str index.\n",
      "  warnings.warn(\"Transforming to str index.\", ImplicitModificationWarning)\n"
     ]
    }
   ],
   "source": [
    "table_b03 = ad.AnnData(X=df_b03)\n",
    "table_b05 = ad.AnnData(X=df_b03)"
   ]
  },
  {
   "cell_type": "code",
   "execution_count": 42,
   "metadata": {},
   "outputs": [
    {
     "name": "stderr",
     "output_type": "stream",
     "text": [
      "2023-12-22 15:24:26,390; WARNING; Unknown table type `condition`.\n"
     ]
    },
    {
     "name": "stderr",
     "output_type": "stream",
     "text": [
      "2023-12-22 15:24:26,509; WARNING; Setting table type to 'condition' (and overriding 'condition' attribute).\n",
      "2023-12-22 15:24:26,510; WARNING; Unknown table type `condition`.\n"
     ]
    },
    {
     "data": {
      "text/plain": [
       "<zarr.hierarchy.Group '/tables/condition'>"
      ]
     },
     "execution_count": 42,
     "metadata": {},
     "output_type": "execute_result"
    }
   ],
   "source": [
    "table_attrs = {\"fractal_table_version\":\"1\"}\n",
    "image_group_b03 = zarr.open(zarr_b03, mode=\"a\")\n",
    "image_group_b05 = zarr.open(zarr_b05, mode=\"a\")\n",
    "\n",
    "write_table(image_group_b03, \"condition\", table_b03, overwrite=True, table_type=\"condition\", table_attrs=table_attrs)\n",
    "write_table(image_group_b05, \"condition\", table_b05, overwrite=True, table_type=\"condition\", table_attrs=table_attrs)"
   ]
  },
  {
   "cell_type": "code",
   "execution_count": null,
   "metadata": {},
   "outputs": [],
   "source": []
  }
 ],
 "metadata": {
  "kernelspec": {
   "display_name": "napari-ome-zarr-navigator",
   "language": "python",
   "name": "python3"
  },
  "language_info": {
   "codemirror_mode": {
    "name": "ipython",
    "version": 3
   },
   "file_extension": ".py",
   "mimetype": "text/x-python",
   "name": "python",
   "nbconvert_exporter": "python",
   "pygments_lexer": "ipython3",
   "version": "3.10.13"
  }
 },
 "nbformat": 4,
 "nbformat_minor": 2
}
